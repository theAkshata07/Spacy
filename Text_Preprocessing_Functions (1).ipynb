{
  "nbformat": 4,
  "nbformat_minor": 0,
  "metadata": {
    "colab": {
      "name": "Text_Preprocessing_Functions.ipynb",
      "provenance": [],
      "collapsed_sections": []
    },
    "kernelspec": {
      "name": "python3",
      "display_name": "Python 3"
    },
    "language_info": {
      "name": "python"
    }
  },
  "cells": [
    {
      "cell_type": "code",
      "source": [
        "import string\n",
        "#string.punctuation\n",
        "import re\n",
        "import nltk\n",
        "nltk.download('stopwords')\n",
        "from nltk.stem import WordNetLemmatizer\n",
        "nltk.download('wordnet')\n",
        "from nltk.stem.porter import PorterStemmer\n",
        "import spacy\n",
        "nlp=spacy.blank(\"en\")\n",
        "import spacy\n",
        "nlp = spacy.load(\"en_core_web_sm\")"
      ],
      "metadata": {
        "id": "TMOcp0QskQcR",
        "colab": {
          "base_uri": "https://localhost:8080/"
        },
        "outputId": "b5c80bcb-c989-47f7-e010-89ad55528ff6"
      },
      "execution_count": null,
      "outputs": [
        {
          "output_type": "stream",
          "name": "stdout",
          "text": [
            "[nltk_data] Downloading package stopwords to /root/nltk_data...\n",
            "[nltk_data]   Unzipping corpora/stopwords.zip.\n",
            "[nltk_data] Downloading package wordnet to /root/nltk_data...\n",
            "[nltk_data]   Unzipping corpora/wordnet.zip.\n"
          ]
        }
      ]
    },
    {
      "cell_type": "code",
      "execution_count": null,
      "metadata": {
        "id": "VD9lKxPNhkzh"
      },
      "outputs": [],
      "source": [
        "text=\"Hello!!.... I am Akshata. i am going to MEET you tomorrow at 5 pm.\""
      ]
    },
    {
      "cell_type": "code",
      "source": [
        "def remove_punctuation(text):\n",
        "  processed_text=\"\".join([i for i in text if i not in string.punctuation])\n",
        "  return processed_text\n",
        "text= remove_punctuation(text)\n",
        "text"
      ],
      "metadata": {
        "colab": {
          "base_uri": "https://localhost:8080/",
          "height": 35
        },
        "id": "Kx4uyyYejW3O",
        "outputId": "18cb0d6c-25c5-477a-f3fc-a09a1e55a31e"
      },
      "execution_count": null,
      "outputs": [
        {
          "output_type": "execute_result",
          "data": {
            "application/vnd.google.colaboratory.intrinsic+json": {
              "type": "string"
            },
            "text/plain": [
              "'Hello I am Akshata i am going to MEET you tomorrow at 5 pm'"
            ]
          },
          "metadata": {},
          "execution_count": 25
        }
      ]
    },
    {
      "cell_type": "code",
      "source": [
        "def lower1(text):\n",
        "  processed_text=text.lower()\n",
        "  return processed_text\n",
        "text1=lower1(text)\n",
        "text"
      ],
      "metadata": {
        "colab": {
          "base_uri": "https://localhost:8080/",
          "height": 35
        },
        "id": "VpQeQCJCkl5X",
        "outputId": "5bcf21e2-5659-4956-f7b7-d17570c0479c"
      },
      "execution_count": null,
      "outputs": [
        {
          "output_type": "execute_result",
          "data": {
            "application/vnd.google.colaboratory.intrinsic+json": {
              "type": "string"
            },
            "text/plain": [
              "'Hello I am Akshata i am going to MEET you tomorrow at 5 pm'"
            ]
          },
          "metadata": {},
          "execution_count": 27
        }
      ]
    },
    {
      "cell_type": "code",
      "source": [
        "def tokenization(text):\n",
        "  processed_text=re.split('\\W+',text)\n",
        "  return processed_text\n",
        "text=tokenization(text)\n",
        "text"
      ],
      "metadata": {
        "colab": {
          "base_uri": "https://localhost:8080/"
        },
        "id": "dA-FFgRClP6x",
        "outputId": "d3ae652a-940d-475c-bf90-dd8219950919"
      },
      "execution_count": null,
      "outputs": [
        {
          "output_type": "execute_result",
          "data": {
            "text/plain": [
              "['Hello',\n",
              " 'I',\n",
              " 'am',\n",
              " 'Akshata',\n",
              " 'i',\n",
              " 'am',\n",
              " 'going',\n",
              " 'to',\n",
              " 'MEET',\n",
              " 'you',\n",
              " 'tomorrow',\n",
              " 'at',\n",
              " '5',\n",
              " 'pm']"
            ]
          },
          "metadata": {},
          "execution_count": 13
        }
      ]
    },
    {
      "cell_type": "code",
      "source": [
        "stopwords = nltk.corpus.stopwords.words('english')\n",
        "def remove_stopwords(text):\n",
        "  processed_text=[i for i in text if i not in stopwords]\n",
        "  return processed_text\n",
        "text=remove_stopwords(text)  \n",
        "text"
      ],
      "metadata": {
        "colab": {
          "base_uri": "https://localhost:8080/"
        },
        "id": "an-uNag3mrPF",
        "outputId": "73a41c57-369e-4c2a-ebff-8251822ef5e0"
      },
      "execution_count": null,
      "outputs": [
        {
          "output_type": "execute_result",
          "data": {
            "text/plain": [
              "['Hello', 'I', 'Akshata', 'going', 'MEET', 'tomorrow', '5', 'pm']"
            ]
          },
          "metadata": {},
          "execution_count": 14
        }
      ]
    },
    {
      "cell_type": "code",
      "source": [
        "def lemmatization(text):\n",
        "  processed_text=[WordNetLemmatizer().lemmatize(word)for word in text]\n",
        "  return processed_text\n",
        "text=lemmatization(text)\n",
        "text"
      ],
      "metadata": {
        "colab": {
          "base_uri": "https://localhost:8080/"
        },
        "id": "mMojYIAUo-xC",
        "outputId": "dff10767-5d1e-4463-99e1-7921407492d6"
      },
      "execution_count": null,
      "outputs": [
        {
          "output_type": "execute_result",
          "data": {
            "text/plain": [
              "['Hello', 'I', 'Akshata', 'going', 'MEET', 'tomorrow', '5', 'pm']"
            ]
          },
          "metadata": {},
          "execution_count": 15
        }
      ]
    },
    {
      "cell_type": "code",
      "source": [
        "def stemming(text):\n",
        "    processed_text = [PorterStemmer().stem(word) for word in text]\n",
        "    return processed_text\n",
        "text=stemming(text)\n",
        "text"
      ],
      "metadata": {
        "colab": {
          "base_uri": "https://localhost:8080/"
        },
        "id": "-NDNYZrcr48p",
        "outputId": "aed3cf49-38dc-4616-f74d-7c84c742fba7"
      },
      "execution_count": null,
      "outputs": [
        {
          "output_type": "execute_result",
          "data": {
            "text/plain": [
              "['hello', 'I', 'akshata', 'go', 'meet', 'tomorrow', '5', 'pm']"
            ]
          },
          "metadata": {},
          "execution_count": 16
        }
      ]
    },
    {
      "cell_type": "code",
      "source": [
        "doc=nlp(\"they are eating pizza at 5 pm\")\n",
        "def alpha(doc):\n",
        "  return [token.is_alpha for token in doc]\n",
        "alpha(doc)"
      ],
      "metadata": {
        "colab": {
          "base_uri": "https://localhost:8080/"
        },
        "id": "Vx5ro-GcsxRs",
        "outputId": "82ae2f05-803a-4b7a-9119-d46cd2c15755"
      },
      "execution_count": null,
      "outputs": [
        {
          "output_type": "execute_result",
          "data": {
            "text/plain": [
              "[True, True, True, True, True, False, True]"
            ]
          },
          "metadata": {},
          "execution_count": 17
        }
      ]
    },
    {
      "cell_type": "code",
      "source": [
        "def num(doc):\n",
        "  return [token.like_num for token in doc]\n",
        "num(doc)"
      ],
      "metadata": {
        "colab": {
          "base_uri": "https://localhost:8080/"
        },
        "id": "YlziY1YJuuuv",
        "outputId": "ba2d527a-678b-4784-b377-9bb08416964e"
      },
      "execution_count": null,
      "outputs": [
        {
          "output_type": "execute_result",
          "data": {
            "text/plain": [
              "[False, False, False, False, False, True, False]"
            ]
          },
          "metadata": {},
          "execution_count": 18
        }
      ]
    },
    {
      "cell_type": "code",
      "source": [
        "def pos(doc):\n",
        "  for token in doc:\n",
        "    print([token.text,token.pos_,token.dep_])\n",
        "pos(doc)"
      ],
      "metadata": {
        "colab": {
          "base_uri": "https://localhost:8080/"
        },
        "id": "wxzoqOBmx0SG",
        "outputId": "3f5a50fe-2d2f-4ca5-ecd8-871f0f855837"
      },
      "execution_count": null,
      "outputs": [
        {
          "output_type": "stream",
          "name": "stdout",
          "text": [
            "['they', 'PRON', 'nsubj']\n",
            "['are', 'AUX', 'aux']\n",
            "['eating', 'VERB', 'ROOT']\n",
            "['pizza', 'NOUN', 'dobj']\n",
            "['at', 'ADP', 'prep']\n",
            "['5', 'NUM', 'nummod']\n",
            "['pm', 'NOUN', 'pobj']\n"
          ]
        }
      ]
    },
    {
      "cell_type": "code",
      "source": [
        "def entity(doc):\n",
        "    for ent in doc.ents:\n",
        "      print(ent.text, ent.label_)\n",
        "entity(doc)"
      ],
      "metadata": {
        "id": "dV3NwjTfyWpt",
        "colab": {
          "base_uri": "https://localhost:8080/"
        },
        "outputId": "33a5927e-ab04-4892-ac5d-ab6fe90f4a8e"
      },
      "execution_count": null,
      "outputs": [
        {
          "output_type": "stream",
          "name": "stdout",
          "text": [
            "5 pm TIME\n"
          ]
        }
      ]
    },
    {
      "cell_type": "code",
      "source": [
        "nlp = spacy.load(\"en_core_web_sm\")\n",
        "def similar_score(doc):\n",
        "  doc1=nlp(\"she is eating burger\")\n",
        "  print(doc1.similarity(doc))\n",
        "similar_score(doc)"
      ],
      "metadata": {
        "colab": {
          "base_uri": "https://localhost:8080/"
        },
        "id": "rmaJ3-EpWorA",
        "outputId": "e4c25732-24be-4735-9e79-e3bb17251d37"
      },
      "execution_count": null,
      "outputs": [
        {
          "output_type": "stream",
          "name": "stdout",
          "text": [
            "0.5184566655845401\n"
          ]
        },
        {
          "output_type": "stream",
          "name": "stderr",
          "text": [
            "/usr/lib/python3.7/runpy.py:193: ModelsWarning: [W007] The model you're using has no word vectors loaded, so the result of the Doc.similarity method will be based on the tagger, parser and NER, which may not give useful similarity judgements. This may happen if you're using one of the small models, e.g. `en_core_web_sm`, which don't ship with word vectors and only use context-sensitive tensors. You can always add your own word vectors, or use one of the larger models instead if available.\n",
            "  \"__main__\", mod_spec)\n"
          ]
        }
      ]
    },
    {
      "cell_type": "code",
      "source": [
        "phone_no=\"222 222 2222,222-222-2222,1234567890,1234567,444.322.1222\""
      ],
      "metadata": {
        "id": "gFwi_dNWunVS"
      },
      "execution_count": null,
      "outputs": []
    },
    {
      "cell_type": "code",
      "source": [
        "#validity check\n",
        "import re\n",
        "pattern=re.compile(\"\\d{3}.?\\d{3}.?\\d{4}\")\n",
        "pattern.findall(phone_no) #getting phone numbers"
      ],
      "metadata": {
        "id": "Rl3V33V7unjo",
        "colab": {
          "base_uri": "https://localhost:8080/"
        },
        "outputId": "0bb73658-ce04-4fce-b0c0-fbbc7d0e13a8"
      },
      "execution_count": null,
      "outputs": [
        {
          "output_type": "execute_result",
          "data": {
            "text/plain": [
              "['222 222 2222', '222-222-2222', '1234567890', '444.322.1222']"
            ]
          },
          "metadata": {},
          "execution_count": 3
        }
      ]
    },
    {
      "cell_type": "code",
      "source": [
        "phone_nums=\"+91 1234567890,+62 9876543210,7777777777,+32 55544466\""
      ],
      "metadata": {
        "id": "140nHOmnvGOu"
      },
      "execution_count": null,
      "outputs": []
    },
    {
      "cell_type": "code",
      "source": [
        "#checking if calling code is present\n",
        "pattern=re.compile(\"\\+\\d{2}\\s\\d{10}\")\n",
        "pattern.findall(phone_nums)"
      ],
      "metadata": {
        "colab": {
          "base_uri": "https://localhost:8080/"
        },
        "id": "eLELGYjywf-N",
        "outputId": "30e0ee52-9dd6-4063-9b2c-c8e5e2a0956c"
      },
      "execution_count": null,
      "outputs": [
        {
          "output_type": "execute_result",
          "data": {
            "text/plain": [
              "['+91 1234567890', '+62 9876543210']"
            ]
          },
          "metadata": {},
          "execution_count": 54
        }
      ]
    },
    {
      "cell_type": "code",
      "source": [
        "mail_ids=\"akshata@gmail.com,akshata@viit.ac.in,@akshata.a,alia.com,suhani@2.in,akshata.chaudhari@celebaltech.com,priya02@outlook.com\""
      ],
      "metadata": {
        "id": "2KyDHREOWN7K"
      },
      "execution_count": null,
      "outputs": []
    },
    {
      "cell_type": "code",
      "source": [
        "#validity check\n",
        "import re  \n",
        "pattern=re.compile(\"\\w+\\.?\\w+@[a-z]+\\.?\\w+\\.?[a-z]+\",flags=re.M) \n",
        "valid_ids=pattern.findall(mail_ids)\n",
        "valid_ids\n",
        "#match=pattern.match(mail_ids) "
      ],
      "metadata": {
        "id": "da2YspQkQpWT",
        "colab": {
          "base_uri": "https://localhost:8080/"
        },
        "outputId": "3492aa3b-af6a-4bf5-e691-83cd266c5900"
      },
      "execution_count": null,
      "outputs": [
        {
          "output_type": "execute_result",
          "data": {
            "text/plain": [
              "['akshata@gmail.com',\n",
              " 'akshata@viit.ac.in',\n",
              " 'akshata.chaudhari@celebaltech.com',\n",
              " 'priya02@outlook.com']"
            ]
          },
          "metadata": {},
          "execution_count": 27
        }
      ]
    },
    {
      "cell_type": "code",
      "source": [
        "#getting names\n",
        "pattern=re.compile(\"\\w+\\.?\\w+(?=@)\")\n",
        "pattern1=pattern.findall(str(valid_ids))\n",
        "print(pattern1)\n",
        "pattern=re.sub('\\.',\" \",str(pattern1))\n",
        "pattern=re.sub('\\d',\"\",str(pattern))\n",
        "pattern"
      ],
      "metadata": {
        "colab": {
          "base_uri": "https://localhost:8080/",
          "height": 53
        },
        "id": "yBbsLbszAn_q",
        "outputId": "daf5a26c-6b49-4b7f-d69d-035f0a7cbcbf"
      },
      "execution_count": null,
      "outputs": [
        {
          "output_type": "stream",
          "name": "stdout",
          "text": [
            "['akshata', 'akshata', 'akshata.chaudhari', 'priya02']\n"
          ]
        },
        {
          "output_type": "execute_result",
          "data": {
            "application/vnd.google.colaboratory.intrinsic+json": {
              "type": "string"
            },
            "text/plain": [
              "\"['akshata', 'akshata', 'akshata chaudhari', 'priya']\""
            ]
          },
          "metadata": {},
          "execution_count": 37
        }
      ]
    },
    {
      "cell_type": "code",
      "source": [
        "#getting oreganization names\n",
        "pattern=re.compile(\"(?<=@)\\w+\")\n",
        "pattern.findall(str(valid_ids))"
      ],
      "metadata": {
        "colab": {
          "base_uri": "https://localhost:8080/"
        },
        "id": "ED-I8oYbyu5j",
        "outputId": "e24fc131-2cef-447a-f46f-604cbe8ab99c"
      },
      "execution_count": null,
      "outputs": [
        {
          "output_type": "execute_result",
          "data": {
            "text/plain": [
              "['gmail', 'viit', 'celebaltech', 'outlook']"
            ]
          },
          "metadata": {},
          "execution_count": 55
        }
      ]
    },
    {
      "cell_type": "code",
      "source": [
        "pattern=re.compile(\"\\w+\\.?\\w+@(?!outlook)\")\n",
        "pattern.findall(str(valid_ids))"
      ],
      "metadata": {
        "colab": {
          "base_uri": "https://localhost:8080/"
        },
        "id": "9xbn0HrDzohs",
        "outputId": "fc079286-54b6-4da5-862d-14578e8e5759"
      },
      "execution_count": null,
      "outputs": [
        {
          "output_type": "execute_result",
          "data": {
            "text/plain": [
              "['akshata@', 'akshata@', 'akshata.chaudhari@']"
            ]
          },
          "metadata": {},
          "execution_count": 64
        }
      ]
    },
    {
      "cell_type": "code",
      "source": [
        "pattern=re.compile(\"\\w+\\.?\\w+@(?:gmail.com|outlook.com)\") \n",
        "pattern.findall(str(valid_ids))"
      ],
      "metadata": {
        "colab": {
          "base_uri": "https://localhost:8080/"
        },
        "id": "RylOFJRz1H2r",
        "outputId": "03154611-001a-4486-f1a3-9422a695501a"
      },
      "execution_count": null,
      "outputs": [
        {
          "output_type": "execute_result",
          "data": {
            "text/plain": [
              "['akshata@gmail.com', 'priya02@outlook.com']"
            ]
          },
          "metadata": {},
          "execution_count": 67
        }
      ]
    },
    {
      "cell_type": "code",
      "source": [
        ""
      ],
      "metadata": {
        "id": "88qK_3ED2JKd"
      },
      "execution_count": null,
      "outputs": []
    }
  ]
}