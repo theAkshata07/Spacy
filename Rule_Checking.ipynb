{
  "nbformat": 4,
  "nbformat_minor": 0,
  "metadata": {
    "colab": {
      "name": "Rule Checking.ipynb",
      "provenance": [],
      "collapsed_sections": []
    },
    "kernelspec": {
      "name": "python3",
      "display_name": "Python 3"
    },
    "language_info": {
      "name": "python"
    }
  },
  "cells": [
    {
      "cell_type": "code",
      "source": [
        "import spacy\n",
        "\n",
        "nlp = spacy.load(\"en_core_web_sm\")"
      ],
      "metadata": {
        "id": "a6vR3LXkwDVQ"
      },
      "execution_count": null,
      "outputs": []
    },
    {
      "cell_type": "code",
      "source": [
        "text = \"promotional material review is facilitated and developed through the\"\n",
        "len(text)"
      ],
      "metadata": {
        "id": "J0bMXs0IvfZE",
        "colab": {
          "base_uri": "https://localhost:8080/"
        },
        "outputId": "f873816c-f149-4e5f-999e-09e9f933b50c"
      },
      "execution_count": null,
      "outputs": [
        {
          "output_type": "execute_result",
          "data": {
            "text/plain": [
              "68"
            ]
          },
          "metadata": {},
          "execution_count": 78
        }
      ]
    },
    {
      "cell_type": "code",
      "execution_count": null,
      "metadata": {
        "id": "tWa7wIsSli8m"
      },
      "outputs": [],
      "source": [
        "def contain_oneverb(text):\n",
        "  a=0\n",
        "  doc=nlp(text)\n",
        "  for token in doc:\n",
        "    #print(a)\n",
        "    if token.pos_=='VERB':\n",
        "      a+=1\n",
        "      print(a)\n",
        "      if a>=2:\n",
        "        return False\n",
        "  if a==1 or a==0:\n",
        "      return True"
      ]
    },
    {
      "cell_type": "code",
      "source": [
        "\n",
        "contain_oneverb(text)"
      ],
      "metadata": {
        "colab": {
          "base_uri": "https://localhost:8080/"
        },
        "id": "l2vKd9-nv4s0",
        "outputId": "3a41a788-f9d4-44a2-83ee-18a6f9b62e97"
      },
      "execution_count": null,
      "outputs": [
        {
          "output_type": "stream",
          "name": "stdout",
          "text": [
            "1\n",
            "2\n"
          ]
        },
        {
          "output_type": "execute_result",
          "data": {
            "text/plain": [
              "False"
            ]
          },
          "metadata": {},
          "execution_count": 77
        }
      ]
    },
    {
      "cell_type": "code",
      "source": [
        "text=\"promotional material review is facilitated and developed through the\"\n",
        "doc=nlp(text)\n",
        "for token in doc:\n",
        "  print(token.text,token.pos_)"
      ],
      "metadata": {
        "colab": {
          "base_uri": "https://localhost:8080/"
        },
        "id": "M_Irp42mIWYt",
        "outputId": "b85003a8-c4be-4927-b66e-fce43dad8958"
      },
      "execution_count": null,
      "outputs": [
        {
          "output_type": "stream",
          "name": "stdout",
          "text": [
            "promotional ADJ\n",
            "material NOUN\n",
            "review NOUN\n",
            "is AUX\n",
            "facilitated VERB\n",
            "and CCONJ\n",
            "developed VERB\n",
            "through ADP\n",
            "the DET\n"
          ]
        }
      ]
    },
    {
      "cell_type": "code",
      "source": [
        "text= \" support publication management team and we manage all regulatory samples\""
      ],
      "metadata": {
        "id": "agHc9tqN0s2w"
      },
      "execution_count": null,
      "outputs": []
    },
    {
      "cell_type": "code",
      "source": [
        "def starts_withverb(text):\n",
        "  #a=0\n",
        "  doc=nlp(text)\n",
        "  for token in doc:\n",
        "    if token.pos_=='VERB':\n",
        "      text1 = text.partition(' ')[2]\n",
        "      print(text1)\n",
        "      break\n",
        "  #print(text1)\n",
        "  doc1=nlp(text1)\n",
        "  #print(text1)\n",
        "  for token in doc1:\n",
        "    if token.pos_=='VERB':\n",
        "      a=+1\n",
        "      return True\n",
        "  if a==0:\n",
        "    return False "
      ],
      "metadata": {
        "id": "HJSe5uY8uUsN"
      },
      "execution_count": null,
      "outputs": []
    },
    {
      "cell_type": "code",
      "source": [
        "starts_withverb(text)"
      ],
      "metadata": {
        "colab": {
          "base_uri": "https://localhost:8080/"
        },
        "id": "5Or6taZt0ibI",
        "outputId": "9a8464ac-3c71-4961-9305-b2706ffb518b"
      },
      "execution_count": null,
      "outputs": [
        {
          "output_type": "stream",
          "name": "stdout",
          "text": [
            "support publication management team and we manage all regulatory samples\n"
          ]
        },
        {
          "output_type": "execute_result",
          "data": {
            "text/plain": [
              "True"
            ]
          },
          "metadata": {},
          "execution_count": 124
        }
      ]
    },
    {
      "cell_type": "code",
      "source": [
        "text = \"funny cheese shop\"\n",
        "text1=text.partition(' ')[2]\n",
        "#text1\n",
        "print(text1.split().pop(0))"
      ],
      "metadata": {
        "colab": {
          "base_uri": "https://localhost:8080/"
        },
        "id": "xwa1TB0BziMM",
        "outputId": "d31b5d87-4acd-44f2-ebd9-0325ddbd1a3e"
      },
      "execution_count": null,
      "outputs": [
        {
          "output_type": "stream",
          "name": "stdout",
          "text": [
            "cheese\n"
          ]
        }
      ]
    },
    {
      "cell_type": "code",
      "source": [
        "text= \"support publication management team and we manage all regulatory samples\"\n",
        "def starts_withverb(text):\n",
        "  a=0\n",
        "  doc=nlp(text)\n",
        "  for token in doc:\n",
        "    if token.pos_=='VERB':\n",
        "      text1=text.partition(' ')[2]\n",
        "      break\n",
        "  doc1=nlp(text1)\n",
        "  print(text1)\n",
        "  for token in doc1:\n",
        "    if token.pos_=='VERB':\n",
        "      a=+1\n",
        "      return True\n",
        "  if a == 0:\n",
        "    return False\n",
        "    \n",
        "\n",
        "starts_withverb(text)"
      ],
      "metadata": {
        "colab": {
          "base_uri": "https://localhost:8080/"
        },
        "id": "nr0Y4zIm0Kew",
        "outputId": "97a3cd33-1136-4663-a2b7-0b72e01bbbf7"
      },
      "execution_count": null,
      "outputs": [
        {
          "output_type": "stream",
          "name": "stdout",
          "text": [
            "publication management team and we manage all regulatory samples\n"
          ]
        },
        {
          "output_type": "execute_result",
          "data": {
            "text/plain": [
              "True"
            ]
          },
          "metadata": {},
          "execution_count": 144
        }
      ]
    },
    {
      "cell_type": "code",
      "source": [
        "doc = nlp(\"Give it back! He pleaded.\") token = doc[0] assert token.text == \"Give\""
      ],
      "metadata": {
        "id": "aElIKh2eFXIS"
      },
      "execution_count": null,
      "outputs": []
    },
    {
      "cell_type": "code",
      "source": [
        "#text= \"gather insights from real patients at the point of care to answer your strategic business questions\"    #label0\n",
        "#text=\"support client and regulatory inspections as needed\"                                       #label0\n",
        "#text=\"informing government intelligence and strategy through global ip data insights \" #label0\n",
        "#text=\"support publication management team and we manage all regulatory samples\"  \n",
        "#text=\"control changing legislation related to toxicology  regulatory  environmental  etc \" #label0\n",
        "#text=\"navigating complex regulatory requirements with expert insights and bring transparency efficiency and predictability to your regulatory affairs strategy \"\n",
        "#text=\"monitoring the regulatory landscape and assessing the impact of changes to ensure readiness for any wider cross functional updates\"\n",
        "#text=\"our comprehensive toxicology and drug safety program support includes cro management  protocol development  study oversight and result reporting  culminating into the integration of key data results into regulatory documents\"\n",
        "def starts_withverb(text):\n",
        "  a=0\n",
        "  doc=nlp(text)\n",
        "  token1 = doc[0]\n",
        "  if token1.tag_==\"VB\" and token1.tag_!=\"VBN\" or token1.tag_==\"VBG\" :\n",
        "    print(\"z\")\n",
        "    for token in doc[1:]:\n",
        "      if token.pos_=='VB' and token.tag_!=\"VBN\" or token.tag_==\"VBG\" : \n",
        "        a=+1\n",
        "        return False\n",
        "    if a == 0:\n",
        "      return True   #label 0\n",
        "  else:\n",
        "    return False     \n",
        "\n",
        "starts_withverb(text)"
      ],
      "metadata": {
        "colab": {
          "base_uri": "https://localhost:8080/"
        },
        "id": "7SU7Q_VsHra-",
        "outputId": "8ac290ea-c582-4a1b-fd82-767e66479e88"
      },
      "execution_count": null,
      "outputs": [
        {
          "output_type": "stream",
          "name": "stdout",
          "text": [
            "z\n"
          ]
        },
        {
          "output_type": "execute_result",
          "data": {
            "text/plain": [
              "True"
            ]
          },
          "metadata": {},
          "execution_count": 43
        }
      ]
    },
    {
      "cell_type": "code",
      "source": [
        "# def starts_withverb(text):\n",
        "#     a=0\n",
        "#     doc=nlp(text if )\n",
        "#     token1 = doc[0]\n",
        "#     if token1.tag_==\"VERB\" and token1.tag_!=\"VBN\" or token1.tag_==\"VBG\":\n",
        "#         for token in doc[1:]:\n",
        "#             if token.tag_=='VB' and token.tag_!=\"VBN\" or token.tag_==\"VBG\": \n",
        "#                 a=+1\n",
        "#                 return False\n",
        "#         if a == 0:\n",
        "#             return True\n",
        "#     else:\n",
        "#         return False"
      ],
      "metadata": {
        "id": "a9uH-iruy3fC"
      },
      "execution_count": null,
      "outputs": []
    },
    {
      "cell_type": "code",
      "source": [
        "text= \"gather insights from real patients at the point of care to answer your strategic business questions\"\n",
        "doc=nlp(text)\n",
        "for token in doc:\n",
        "  print(token.text,token.tag_)"
      ],
      "metadata": {
        "colab": {
          "base_uri": "https://localhost:8080/"
        },
        "id": "aCbYEmHGhy2t",
        "outputId": "bfbf26be-dd64-402b-bbad-3925cd41054b"
      },
      "execution_count": null,
      "outputs": [
        {
          "output_type": "stream",
          "name": "stdout",
          "text": [
            "gather VB\n",
            "insights NNS\n",
            "from IN\n",
            "real JJ\n",
            "patients NNS\n",
            "at IN\n",
            "the DT\n",
            "point NN\n",
            "of IN\n",
            "care NN\n",
            "to TO\n",
            "answer VB\n",
            "your PRP$\n",
            "strategic JJ\n",
            "business NN\n",
            "questions NNS\n"
          ]
        }
      ]
    },
    {
      "cell_type": "code",
      "source": [
        "import nltk"
      ],
      "metadata": {
        "id": "iRHe7N37cNZd"
      },
      "execution_count": null,
      "outputs": []
    },
    {
      "cell_type": "code",
      "source": [
        " nltk.download('punkt')"
      ],
      "metadata": {
        "colab": {
          "base_uri": "https://localhost:8080/"
        },
        "id": "k1XrOWXQf8EQ",
        "outputId": "902849ef-9b0b-499d-f7b1-a861d42114e8"
      },
      "execution_count": null,
      "outputs": [
        {
          "output_type": "stream",
          "name": "stdout",
          "text": [
            "[nltk_data] Downloading package punkt to /root/nltk_data...\n",
            "[nltk_data]   Unzipping tokenizers/punkt.zip.\n"
          ]
        },
        {
          "output_type": "execute_result",
          "data": {
            "text/plain": [
              "True"
            ]
          },
          "metadata": {},
          "execution_count": 19
        }
      ]
    },
    {
      "cell_type": "code",
      "source": [
        "text= word_tokenize(\"support client and regulatory inspections as needed\")\n",
        "nltk.pos_tag(text)"
      ],
      "metadata": {
        "colab": {
          "base_uri": "https://localhost:8080/"
        },
        "id": "YmU8Xy_yR_wX",
        "outputId": "cc4a9261-4362-4979-8a8d-d37643e555f2"
      },
      "execution_count": null,
      "outputs": [
        {
          "output_type": "execute_result",
          "data": {
            "text/plain": [
              "[('support', 'NN'),\n",
              " ('client', 'NN'),\n",
              " ('and', 'CC'),\n",
              " ('regulatory', 'JJ'),\n",
              " ('inspections', 'NNS'),\n",
              " ('as', 'IN'),\n",
              " ('needed', 'VBN')]"
            ]
          },
          "metadata": {},
          "execution_count": 20
        }
      ]
    },
    {
      "cell_type": "code",
      "source": [
        "text=\"support client and regulatory inspections as needed\"\n",
        "doc=nlp(text)\n",
        "for token in doc:\n",
        "  print(token.tag_)"
      ],
      "metadata": {
        "id": "9X-mRfe2H_bp",
        "colab": {
          "base_uri": "https://localhost:8080/"
        },
        "outputId": "46295241-eaf4-4757-e503-1de08555c893"
      },
      "execution_count": null,
      "outputs": [
        {
          "output_type": "stream",
          "name": "stdout",
          "text": [
            "VB\n",
            "NN\n",
            "CC\n",
            "JJ\n",
            "NNS\n",
            "IN\n",
            "VBN\n"
          ]
        }
      ]
    }
  ]
}